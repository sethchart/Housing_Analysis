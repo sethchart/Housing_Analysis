{
 "cells": [
  {
   "cell_type": "markdown",
   "metadata": {},
   "source": [
    "# Regression Analysis Development\n",
    "In this notebook we develop helper functions for inclusion in a regression analysis class."
   ]
  },
  {
   "cell_type": "markdown",
   "metadata": {},
   "source": [
    "## Import libraries"
   ]
  },
  {
   "cell_type": "code",
   "execution_count": null,
   "metadata": {},
   "outputs": [],
   "source": [
    "import os\n",
    "import pandas as pd\n",
    "import numpy as np\n",
    "import seaborn as sns\n",
    "sns.set_style('darkgrid')\n",
    "sns.set_context('talk')\n",
    "import matplotlib.pyplot as plt\n",
    "from sklearn.linear_model import LinearRegression\n",
    "from sklearn.metrics import mean_squared_error, r2_score\n",
    "from sklearn.model_selection import train_test_split\n",
    "from scipy import stats\n",
    "from statsmodels import api as sm\n",
    "from statsmodels.stats.outliers_influence import variance_inflation_factor as vif"
   ]
  },
  {
   "cell_type": "markdown",
   "metadata": {},
   "source": [
    "## Set path to cleaned data"
   ]
  },
  {
   "cell_type": "code",
   "execution_count": null,
   "metadata": {},
   "outputs": [],
   "source": [
    "cleaned_data = os.path.abspath('data/cleaned.csv')"
   ]
  },
  {
   "cell_type": "markdown",
   "metadata": {},
   "source": [
    "## Test data"
   ]
  },
  {
   "cell_type": "code",
   "execution_count": null,
   "metadata": {},
   "outputs": [],
   "source": [
    "np.random.seed(42)\n",
    "df = pd.DataFrame(np.random.randint(0,100,size=(10, 4)), columns=list('ABCD'))\n",
    "X = df.drop('A', axis=1)\n",
    "y = df['A']\n",
    "linreg = LinearRegression(fit_intercept=True)\n",
    "model = linreg.fit(X, y)\n",
    "y_hat = model.predict(X)\n",
    "residuals = y-y_hat"
   ]
  },
  {
   "cell_type": "markdown",
   "metadata": {},
   "source": [
    "## Function to load cleaned data"
   ]
  },
  {
   "cell_type": "code",
   "execution_count": null,
   "metadata": {},
   "outputs": [],
   "source": [
    "def load_data():\n",
    "    \"\"\"Load the cleaned data as a data frame.\"\"\"\n",
    "    df = pd.read_csv(cleaned_data)\n",
    "    return df\n",
    "\n",
    "def test_load_data():\n",
    "    \"\"\"Test the load_data function.\"\"\"\n",
    "    test_passes = True\n",
    "    try:\n",
    "        df = load_data()\n",
    "    except:\n",
    "        test_passes = False\n",
    "    return test_passes\n",
    "\n",
    "test_load_data()"
   ]
  },
  {
   "cell_type": "markdown",
   "metadata": {},
   "source": [
    "## Function to make pair plot of dataframe"
   ]
  },
  {
   "cell_type": "code",
   "execution_count": null,
   "metadata": {},
   "outputs": [],
   "source": [
    "def make_pair_plot(df):\n",
    "    \"\"\"Given a dataframe make a pairplot of all variables.\"\"\"\n",
    "    return sns.pairplot(data=df)\n",
    "\n",
    "def test_make_distribution_plot():\n",
    "    \"\"\"Test the make_pair_plot function.\"\"\"\n",
    "    test_passes = True \n",
    "    try:\n",
    "        make_pair_plot(df);\n",
    "    except:\n",
    "        test_passes = False\n",
    "    return test_passes\n",
    "\n",
    "test_make_distribution_plot()"
   ]
  },
  {
   "cell_type": "markdown",
   "metadata": {},
   "source": [
    "## Function to make correlation of dataframe"
   ]
  },
  {
   "cell_type": "code",
   "execution_count": null,
   "metadata": {},
   "outputs": [],
   "source": [
    "def make_correlation_plot(df):\n",
    "    \"\"\"Given a dataframe make heatmap of pairwise correlation.\"\"\"\n",
    "    corr = df.corr()\n",
    "    return sns.heatmap(corr, annot=True, cmap='Blues')\n",
    "\n",
    "def test_make_correlation_plot():\n",
    "    \"\"\"Test the make_corelation_plot function.\"\"\"\n",
    "    test_passes = True\n",
    "    try:\n",
    "        make_correlation_plot(df);\n",
    "    except:\n",
    "        test_passes = False\n",
    "    return test_passes\n",
    "\n",
    "test_make_correlation_plot()"
   ]
  },
  {
   "cell_type": "markdown",
   "metadata": {},
   "source": [
    "## Function to fit model to traning data"
   ]
  },
  {
   "cell_type": "code",
   "execution_count": null,
   "metadata": {},
   "outputs": [],
   "source": [
    "def fit_model(X_train, y_train, fit_intercept=True):\n",
    "    \"\"\"Fit a least squares linear model to the training inputs X_train and training outputs y_train.\"\"\"\n",
    "    linreg = LinearRegression(fit_intercept=fit_intercept)\n",
    "    model = linreg.fit(X_train, y_train)\n",
    "    return model\n",
    "\n",
    "def test_fit_model():\n",
    "    \"\"\"Test fit_model function.\"\"\"\n",
    "    try:\n",
    "        model = fit_model(X, y)\n",
    "        coef_compair = model.coef_ == np.array([-0.02388839656181407, 0.4214208340984754, 0.6505954052083907])\n",
    "        coef_match = coef_compair.min()\n",
    "        intercept_match = model.intercept_ == -20.611944473223005\n",
    "        test_passes = coef_match and intercept_match\n",
    "    except:\n",
    "        test_passes = False/j\n",
    "    return test_passes\n",
    "\n",
    "test_fit_model()"
   ]
  },
  {
   "cell_type": "markdown",
   "metadata": {},
   "source": [
    "## Function to predict target from input variabes"
   ]
  },
  {
   "cell_type": "code",
   "execution_count": null,
   "metadata": {},
   "outputs": [],
   "source": [
    "def predict_target(X, model):\n",
    "    \"\"\"Use the provided model and data X to produce predicted values of the target.\"\"\"\n",
    "    y_hat = model.predict(X)\n",
    "    return y_hat\n",
    "\n",
    "def test_predict_target():\n",
    "    \"\"\"Test predict_target function.\"\"\"\n",
    "    try:\n",
    "        y_hat = predict_target(X, model) \n",
    "        prediction_match = y_hat.round(2) == np.array(\n",
    "            [29.28, 69.42, 78.69, 22.02, 13.6, 15.76, 15.28, 53.9, 53.48, 33.56]\n",
    "        )\n",
    "        test_passes = prediction_match.min()\n",
    "    except:\n",
    "        test_passes = False\n",
    "    return test_passes\n",
    "\n",
    "test_predict_target()"
   ]
  },
  {
   "cell_type": "markdown",
   "metadata": {},
   "source": [
    "## Function to compute residuals"
   ]
  },
  {
   "cell_type": "code",
   "execution_count": null,
   "metadata": {},
   "outputs": [],
   "source": [
    "def compute_residuals(y, y_hat):\n",
    "    \"\"\"Compute residuals from a series of observed values y and predicted values y_hat\"\"\"\n",
    "    return y-y_hat\n",
    "\n",
    "def test_compute_residuals():\n",
    "    try:\n",
    "        residuals = compute_residuals(y, y_hat)\n",
    "        residuals_match = residuals.round(2) == np.array(\n",
    "            [21.72, -9.42, -4.69, 0.98, -12.6, -14.76, 16.72, 34.1, -12.48, -19.56]\n",
    "        )\n",
    "        test_passes = residuals_match.min()\n",
    "    except:\n",
    "        test_passes = False\n",
    "    return test_passes\n",
    "test_compute_residuals()    "
   ]
  },
  {
   "cell_type": "markdown",
   "metadata": {},
   "source": [
    "## Function to plot residuals against all input variables"
   ]
  },
  {
   "cell_type": "code",
   "execution_count": null,
   "metadata": {},
   "outputs": [],
   "source": [
    "def plot_residuals_against_inputs(X, residuals):\n",
    "    \"\"\"Plot residuals against input variables.\"\"\"\n",
    "    number_of_plots = len(X.columns)\n",
    "    nrows = int(np.sqrt(number_of_plots))\n",
    "    ncols = int(number_of_plots/nrows)\n",
    "    fig, axs = plt.subplots(nrows=nrows, ncols=ncols)\n",
    "    fig.set_figheight(6*nrows)\n",
    "    fig.set_figwidth(8*ncols)\n",
    "    for ax, col in zip(axs.flat, X.columns):\n",
    "        sns.scatterplot(x=X[col], y=residuals, ax=ax)\n",
    "        sns.lineplot(x=[X[col].min(), X[col].max()], y=[0, 0], ax=ax, color='red')\n",
    "        ax.set_xlabel(col.title())\n",
    "        ax.set_ylabel('Residuals')\n",
    "        ax.set_title(f'Residuals vs {col.title()}')\n",
    "\n",
    "def test_plot_residuals_against_inputs():\n",
    "    \"\"\"Test the plot_residuals function.\"\"\"\n",
    "    try:\n",
    "        plot_residuals_against_inputs(X, residuals)\n",
    "        test_passes = True\n",
    "    except:\n",
    "        test_passes = False\n",
    "    return test_passes\n",
    "\n",
    "test_plot_residuals_against_inputs()"
   ]
  },
  {
   "cell_type": "markdown",
   "metadata": {},
   "source": [
    "## Function to plot residuals against predicted values"
   ]
  },
  {
   "cell_type": "code",
   "execution_count": null,
   "metadata": {},
   "outputs": [],
   "source": [
    "def plot_residuals_against_prediction(y, residuals):\n",
    "    \"\"\"Plot residuals against predicted values.\"\"\"\n",
    "    ax = sns.scatterplot(\n",
    "        x=y, \n",
    "        y=residuals\n",
    "    )\n",
    "    sns.lineplot(x=[y.min(), y.max()], y=[0, 0], color='red', ax=ax)\n",
    "    ax.set(\n",
    "        title='Residuals vs Predicted Values',\n",
    "        xlabel='Predicted Values',\n",
    "        ylabel='Residuals'\n",
    "    )\n",
    "\n",
    "def test_plot_residuals_against_prediction():\n",
    "    \"\"\"Test the plot_residuals function.\"\"\"\n",
    "    try:\n",
    "        plot_residuals_against_prediction(y, residuals)\n",
    "        test_passes = True\n",
    "    except:\n",
    "        test_phistogramasses = False\n",
    "    return test_passes\n",
    "\n",
    "test_plot_residuals_against_prediction()"
   ]
  },
  {
   "cell_type": "code",
   "execution_count": null,
   "metadata": {},
   "outputs": [],
   "source": [
    "## Function to plot distribution of residuals"
   ]
  },
  {
   "cell_type": "code",
   "execution_count": null,
   "metadata": {},
   "outputs": [],
   "source": [
    "def plot_residuals_distribution(residuals):\n",
    "    \"\"\"Plot the distribution of normalized residuals.\"\"\"\n",
    "    normalized_residuals = residuals/residuals.std()\n",
    "    ax = sns.distplot(normalized_residuals)\n",
    "    ax.set(\n",
    "        title='Distribution of Normalized Residuals.',\n",
    "        xlabel='Residuals',\n",
    "        ylabel='Probability Density'\n",
    "    )\n",
    "    \n",
    "def test_plot_residuals_ditribution():\n",
    "    \"\"\"Test plot_residuals_, title='Test'distribution function\"\"\"\n",
    "    try:\n",
    "        plot_residuals_distribution(residuals)\n",
    "        test_passes = True\n",
    "    except:\n",
    "        test_passes = False\n",
    "    return test_passes\n",
    "\n",
    "test_plot_residuals_ditribution()"
   ]
  },
  {
   "cell_type": "markdown",
   "metadata": {},
   "source": [
    "## Function to make a QQ plot of residuals and conduct a Kolmogorov Smirnov test for normality "
   ]
  },
  {
   "cell_type": "code",
   "execution_count": null,
   "metadata": {},
   "outputs": [],
   "source": [
    "def plot_residuals_normal_qq(residuals):\n",
    "    \"\"\"Make a QQ ploat of normalized residuals against a standard normal distribution.\"\"\"\n",
    "    plt.style.use('ggplot')\n",
    "    normalized_residuals = residuals/residuals.std()\n",
    "    sm.graphics.qqplot(normalized_residuals, dist=stats.norm, line='45', fit=True)\n",
    "    kstest_result = stats.kstest(normalized_residuals, 'norm')\n",
    "    if kstest_result.pvalue <= 0.05:\n",
    "        print(f'We reject the null hypothesis that our residuals are normally distributed at the $\\alpha =0.05$ level.')\n",
    "    else:\n",
    "        print(f'We fail to reject the null hypothesis that our residuals are normally distributed at the alpha = 0.05 level.')\n",
    "\n",
    "\n",
    "def test_plot_residuals_ditribution():\n",
    "    \"\"\"Test plot_residuals_normal_qq function\"\"\"\n",
    "    try:\n",
    "        plot_residuals_normal_qq(residuals)\n",
    "        test_passes = True\n",
    "    except:\n",
    "        test_passes = False\n",
    "    return test_passes\n",
    "\n",
    "test_plot_residuals_ditribution()"
   ]
  },
  {
   "cell_type": "markdown",
   "metadata": {},
   "source": [
    "## Function to compute variance inflation factors for all input variables"
   ]
  },
  {
   "cell_type": "code",
   "execution_count": null,
   "metadata": {},
   "outputs": [],
   "source": [
    "def compute_vif(X):\n",
    "    \"\"\"Compute variance inflation factors for all input variables.\"\"\"\n",
    "    vifs = dict()\n",
    "    for ind, col in enumerate(X.columns):\n",
    "        vif_score = vif(np.matrix(X), ind)\n",
    "        vifs[col] = vif_score.round(2)\n",
    "    return vifs\n",
    "\n",
    "def test_compute_vif():\n",
    "    \"\"\"Test the compute_vif function.\"\"\"\n",
    "    ref_values = {'B': 3.3, 'C': 5.0, 'D': 5.41}\n",
    "    vifs = compute_vif(X)\n",
    "    tests = [vifs[col] == ref_values[col] for col in X.columns]\n",
    "    test_passes = np.min(tests)\n",
    "    return test_passes\n",
    "\n",
    "test_compute_vif()"
   ]
  }
 ],
 "metadata": {
  "kernelspec": {
   "display_name": "flatiron",
   "language": "python",
   "name": "flatiron"
  },
  "language_info": {
   "codemirror_mode": {
    "name": "ipython",
    "version": 3
   },
   "file_extension": ".py",
   "mimetype": "text/x-python",
   "name": "python",
   "nbconvert_exporter": "python",
   "pygments_lexer": "ipython3",
   "version": "3.6.9"
  }
 },
 "nbformat": 4,
 "nbformat_minor": 4
}
