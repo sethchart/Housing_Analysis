{
 "cells": [
  {
   "cell_type": "markdown",
   "metadata": {},
   "source": [
    "# Data Cleaning\n",
    "In this notebook we execute the data cleaning tasks that we identified in the Data Validation notebook."
   ]
  },
  {
   "cell_type": "markdown",
   "metadata": {},
   "source": [
    "## Data cleanup functions\n",
    "Below we write functions that will implement the cleanup tasks that we identified. Through out this section we use test driven design to ensure that functions work as expected. "
   ]
  },
  {
   "cell_type": "markdown",
   "metadata": {},
   "source": [
    "### `waterfront` clean up function\n",
    "We wish to convert NaNs to zeros and set the data type to integer."
   ]
  },
  {
   "cell_type": "code",
   "execution_count": null,
   "metadata": {},
   "outputs": [],
   "source": [
    "import numpy as np\n",
    "def clean_waterfront(value):\n",
    "    \"\"\"Converts float encoded boolean input to integer encoded boolean and replaces NaNs with zeros.\"\"\"\n",
    "    if np.isnan(value) or value == 0:\n",
    "        output = int(0)\n",
    "    elif value == 1:\n",
    "        output = int(1)\n",
    "    return output\n",
    "\n",
    "def test_clean_waterfront():\n",
    "    \"\"\"Tests the clean_waterfront function.\"\"\"\n",
    "    test_value1 = 0.0\n",
    "    test_value2 = 1.0\n",
    "    test_value3 = np.nan\n",
    "    test1 = clean_waterfront(test_value1) == 0\n",
    "    test2 = clean_waterfront(test_value2) == 1\n",
    "    test3 = clean_waterfront(test_value3) == 0\n",
    "    return test1 and test2 and test3\n",
    "\n",
    "test_clean_waterfront()"
   ]
  },
  {
   "cell_type": "markdown",
   "metadata": {},
   "source": [
    "### `view` clean up function\n",
    "we wish to convert values to natural numbers filling NaNs with zeros."
   ]
  },
  {
   "cell_type": "code",
   "execution_count": null,
   "metadata": {},
   "outputs": [],
   "source": [
    "import numpy as np\n",
    "\n",
    "def clean_view(value):\n",
    "    \"\"\"Converts numerical inputs to integers and replaces NaNs with zeros.\"\"\"\n",
    "    if np.isnan(value):\n",
    "        output = int(0)\n",
    "    else:\n",
    "        output = int(value)\n",
    "    return output\n",
    "\n",
    "def test_clean_view():\n",
    "    \"\"\"Tests the clean_view function.\"\"\"\n",
    "    test_values = [ 1.0, 13.0, 5.0, np.nan]\n",
    "    is_int = True\n",
    "    for value in test_values:\n",
    "        is_int = type(clean_view(value)) == int\n",
    "        if not is_int:\n",
    "            break\n",
    "    return is_int\n",
    "\n",
    "test_clean_view()"
   ]
  },
  {
   "cell_type": "markdown",
   "metadata": {},
   "source": [
    "### `yr_renovated` clean up function\n",
    "Convert to integer and replace zeros and NaNs with False."
   ]
  },
  {
   "cell_type": "code",
   "execution_count": null,
   "metadata": {},
   "outputs": [],
   "source": [
    "def clean_yr_renovated(value):\n",
    "    \"\"\"Converts year renovated to an integer and replaces zeroes and NaNs with False.\"\"\"\n",
    "    if np.isnan(value) or value == 0:\n",
    "        output = False\n",
    "    else:\n",
    "        output = int(value)\n",
    "    return output\n",
    "\n",
    "def test_clean_yr_renovated():\n",
    "    test_values = [0.0, np.nan, 1957.0, 2020.0, 1987]\n",
    "    output = [ clean_yr_renovated(value) for value in test_values]\n",
    "    return output == [False, False, 1957, 2020, 1987]\n",
    "\n",
    "test_clean_yr_renovated()"
   ]
  },
  {
   "cell_type": "markdown",
   "metadata": {},
   "source": [
    "### `date` clean up function\n",
    "the date field is formatted as a string. for the purposes of this analysis, we will need to convert to a `datetime`"
   ]
  },
  {
   "cell_type": "code",
   "execution_count": null,
   "metadata": {},
   "outputs": [],
   "source": [
    "from datetime import datetime as dt\n",
    "\n",
    "def clean_date(date_str):\n",
    "    \"\"\"Converts 'MM/DD/YYYY' formatted date strings to datetime objects.\"\"\"\n",
    "    return dt.strptime(date_str, '%m/%d/%Y')\n",
    "    \n",
    "def test_clean_date():\n",
    "    \"\"\"Tests the clean_date function.\"\"\"\n",
    "    return clean_date('7/21/1987') == dt(1987, 7, 21, 0, 0)\n",
    "\n",
    "test_clean_date()"
   ]
  },
  {
   "cell_type": "markdown",
   "metadata": {},
   "source": [
    "### `sqft_basement` cleanup function\n",
    "Replace `?` with zero and convert to integer."
   ]
  },
  {
   "cell_type": "code",
   "execution_count": null,
   "metadata": {},
   "outputs": [],
   "source": [
    "def clean_sqft_basement(value):\n",
    "    \"\"\"Convert '?' to zero and string encoded floats to integers.\"\"\"\n",
    "    if value == '?':\n",
    "        output = int(0)\n",
    "    else:\n",
    "        output = int(float(value))\n",
    "    return output\n",
    "\n",
    "def test_clean_sqft_basement():\n",
    "    test_values = ['?', '0.0', '600.0', 2000.0, 334]\n",
    "    output = [ clean_sqft_basement(value) for value in test_values]\n",
    "    return output == [0, 0, 600, 2000, 334]\n",
    "\n",
    "test_clean_sqft_basement()"
   ]
  },
  {
   "cell_type": "markdown",
   "metadata": {},
   "source": [
    "## Execute data cleaning\n",
    "In this section we will clean the data and save it for future use."
   ]
  },
  {
   "cell_type": "markdown",
   "metadata": {},
   "source": [
    "### Load the raw data"
   ]
  },
  {
   "cell_type": "code",
   "execution_count": null,
   "metadata": {},
   "outputs": [],
   "source": [
    "import pandas as pd\n",
    "df = pd.read_csv('data/kc_house_data.csv')\n",
    "df.head()"
   ]
  },
  {
   "cell_type": "markdown",
   "metadata": {},
   "source": [
    "### Data cleaning function"
   ]
  },
  {
   "cell_type": "code",
   "execution_count": null,
   "metadata": {},
   "outputs": [],
   "source": [
    "def clean_data(df):\n",
    "    \"\"\"Execute all data cleaning tasks and save resulting datafram to data/cleaned.csv\"\"\"\n",
    "    clean = df.copy()\n",
    "    clean['waterfront'] = df['waterfront'].apply(clean_waterfront)\n",
    "    clean['view'] = df['view'].apply(clean_view)\n",
    "    clean['yr_renovated'] = df['yr_renovated'].apply(clean_yr_renovated)\n",
    "    clean['date'] = df['date'].apply(clean_date)\n",
    "    clean['sqft_basement'] = df['sqft_basement'].apply(clean_sqft_basement)\n",
    "    clean.to_csv('data/cleaned.csv', index=False)"
   ]
  },
  {
   "cell_type": "markdown",
   "metadata": {},
   "source": [
    "### Execute data cleaning"
   ]
  },
  {
   "cell_type": "code",
   "execution_count": null,
   "metadata": {},
   "outputs": [],
   "source": [
    "clean_data(df)"
   ]
  },
  {
   "cell_type": "markdown",
   "metadata": {},
   "source": [
    "### Load cleaned data for inspection"
   ]
  },
  {
   "cell_type": "code",
   "execution_count": null,
   "metadata": {},
   "outputs": [],
   "source": [
    "clean = pd.read_csv('data/cleaned.csv')\n",
    "clean.head()"
   ]
  },
  {
   "cell_type": "code",
   "execution_count": null,
   "metadata": {},
   "outputs": [],
   "source": []
  }
 ],
 "metadata": {
  "kernelspec": {
   "display_name": "flatiron",
   "language": "python",
   "name": "flatiron"
  },
  "language_info": {
   "codemirror_mode": {
    "name": "ipython",
    "version": 3
   },
   "file_extension": ".py",
   "mimetype": "text/x-python",
   "name": "python",
   "nbconvert_exporter": "python",
   "pygments_lexer": "ipython3",
   "version": "3.6.9"
  }
 },
 "nbformat": 4,
 "nbformat_minor": 4
}
