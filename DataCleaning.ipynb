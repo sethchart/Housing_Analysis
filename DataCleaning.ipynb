{
 "cells": [
  {
   "cell_type": "markdown",
   "metadata": {},
   "source": [
    "# Data Cleaning\n",
    "In this notebook we execute the data cleaning tasks that we identified in the Data Validation notebook."
   ]
  },
  {
   "cell_type": "markdown",
   "metadata": {},
   "source": [
    "## `waterfront` clean up function\n",
    "We wish to convert NaNs to zeros and set the data type to integer."
   ]
  },
  {
   "cell_type": "code",
   "execution_count": 6,
   "metadata": {},
   "outputs": [
    {
     "data": {
      "text/plain": [
       "True"
      ]
     },
     "execution_count": 6,
     "metadata": {},
     "output_type": "execute_result"
    }
   ],
   "source": [
    "import numpy as np\n",
    "def clean_waterfront(value):\n",
    "    \"\"\"Converts float encoded boolean input to integer encoded boolean and replaces NaNs with zeros.\"\"\"\n",
    "    mapping = {\n",
    "        np.nan: 0,\n",
    "        0: 0,\n",
    "        1: 1        \n",
    "    }\n",
    "    output = int(mapping[value])\n",
    "    return output\n",
    "\n",
    "def test_clean_waterfront():\n",
    "    \"\"\"Tests the clean_waterfront function.\"\"\"\n",
    "    test_value1 = 0.0\n",
    "    test_value2 = 1.0\n",
    "    test_value3 = np.nan\n",
    "    test1 = clean_waterfront(test_value1) == 0\n",
    "    test2 = clean_waterfront(test_value2) == 1\n",
    "    test3 = clean_waterfront(test_value3) == 0\n",
    "    return test1 & test2 & test3\n",
    "\n",
    "test_clean_waterfront()"
   ]
  },
  {
   "cell_type": "markdown",
   "metadata": {},
   "source": [
    "## `view` clean up function\n",
    "we wish to convert values to natural numbers filling NaNs with zeros."
   ]
  },
  {
   "cell_type": "code",
   "execution_count": 4,
   "metadata": {},
   "outputs": [
    {
     "data": {
      "text/plain": [
       "True"
      ]
     },
     "execution_count": 4,
     "metadata": {},
     "output_type": "execute_result"
    }
   ],
   "source": [
    "import numpy as np\n",
    "\n",
    "def clean_view(value):\n",
    "    \"\"\"Converts numerical inputs to integers and replaces NaNs with zeros.\"\"\"\n",
    "    if np.isnan(value):\n",
    "        output = int(0)\n",
    "    else:\n",
    "        output = int(value)\n",
    "    return output\n",
    "\n",
    "def test_clean_view():\n",
    "    \"\"\"Tests the clean_view function.\"\"\"\n",
    "    test_values = [ 1.0, 13.0, 5.0, np.nan]\n",
    "    is_int = True\n",
    "    for value in test_values:\n",
    "        is_int = type(clean_view(value)) == int\n",
    "        if not is_int:\n",
    "            break\n",
    "    return is_int\n",
    "\n",
    "test_clean_view()"
   ]
  },
  {
   "cell_type": "markdown",
   "metadata": {},
   "source": [
    "## `yr_renovated` clean up function\n",
    "Convert to integer and "
   ]
  },
  {
   "cell_type": "markdown",
   "metadata": {},
   "source": [
    "## `date` clean up function\n",
    "the date field is formatted as a string. for the purposes of this analysis, we will need to convert to a `datetime`"
   ]
  },
  {
   "cell_type": "code",
   "execution_count": 17,
   "metadata": {},
   "outputs": [
    {
     "data": {
      "text/plain": [
       "True"
      ]
     },
     "execution_count": 17,
     "metadata": {},
     "output_type": "execute_result"
    }
   ],
   "source": [
    "from datetime import datetime as dt\n",
    "\n",
    "def clean_date(date_str):\n",
    "    \"\"\"Converts 'MM/DD/YYYY' formatted date strings to datetime objects.\"\"\"\n",
    "    return dt.strptime(date_str, '%m/%d/%Y')\n",
    "    \n",
    "def test_clean_date():\n",
    "    \"\"\"Tests the clean_date function.\"\"\"\n",
    "    return clean_date('7/21/1987') == dt(1987, 7, 21, 0, 0)\n",
    "\n",
    "test_clean_date()"
   ]
  }
 ],
 "metadata": {
  "kernelspec": {
   "display_name": "flatiron",
   "language": "python",
   "name": "flatiron"
  },
  "language_info": {
   "codemirror_mode": {
    "name": "ipython",
    "version": 3
   },
   "file_extension": ".py",
   "mimetype": "text/x-python",
   "name": "python",
   "nbconvert_exporter": "python",
   "pygments_lexer": "ipython3",
   "version": "3.6.9"
  }
 },
 "nbformat": 4,
 "nbformat_minor": 4
}
