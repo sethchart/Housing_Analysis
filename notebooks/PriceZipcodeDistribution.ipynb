{
 "cells": [
  {
   "cell_type": "markdown",
   "metadata": {},
   "source": [
    "# Distribution of Prices by Zipcode."
   ]
  },
  {
   "cell_type": "code",
   "execution_count": null,
   "metadata": {},
   "outputs": [],
   "source": [
    "import RegressionAnalysis\n",
    "ra = RegressionAnalysis.RegressionAnalysis()\n",
    "import seaborn as sns\n",
    "import matplotlib.pyplot as plt\n",
    "import numpy as np"
   ]
  },
  {
   "cell_type": "code",
   "execution_count": null,
   "metadata": {},
   "outputs": [],
   "source": [
    "df = ra.load_data()\n",
    "zipPrice = df[['zipcode']].copy()\n",
    "zipPrice['log_price'] = df['price'].apply(np.log10)"
   ]
  },
  {
   "cell_type": "markdown",
   "metadata": {},
   "source": [
    "## Visualize the distribution of house prices by zipcode."
   ]
  },
  {
   "cell_type": "code",
   "execution_count": null,
   "metadata": {},
   "outputs": [],
   "source": [
    "zip_by_median_price = zipPrice.groupby(by='zipcode').agg('median').sort_values(by='log_price', ascending=False).reset_index()\n",
    "order = zip_by_median_price.zipcode\n",
    "minzip = zip_by_median_price.iloc[0]\n",
    "maxzip = zip_by_median_price.iloc[-1]"
   ]
  },
  {
   "cell_type": "code",
   "execution_count": null,
   "metadata": {},
   "outputs": [],
   "source": [
    "plt.figure(figsize=(15,20))\n",
    "sns.boxplot(y='zipcode', x='log_price', data=zipPrice, orient='h', order=order)"
   ]
  },
  {
   "cell_type": "markdown",
   "metadata": {},
   "source": [
    "## Conclusion\n",
    "We see that median house price ranges by zipcode from 235,000 USD to 1,894,941 USD."
   ]
  },
  {
   "cell_type": "code",
   "execution_count": null,
   "metadata": {},
   "outputs": [],
   "source": [
    "print(f\"The zipcode {int(minzip.zipcode)} has the lowest median house price: ${round(10**minzip.log_price)}\")\n",
    "print(f\"The zipcode {int(maxzip.zipcode)} has the highest median house price: ${round(10**maxzip.log_price)}\")"
   ]
  },
  {
   "cell_type": "code",
   "execution_count": null,
   "metadata": {},
   "outputs": [],
   "source": []
  }
 ],
 "metadata": {
  "kernelspec": {
   "display_name": "flatiron",
   "language": "python",
   "name": "flatiron"
  },
  "language_info": {
   "codemirror_mode": {
    "name": "ipython",
    "version": 3
   },
   "file_extension": ".py",
   "mimetype": "text/x-python",
   "name": "python",
   "nbconvert_exporter": "python",
   "pygments_lexer": "ipython3",
   "version": "3.6.9"
  }
 },
 "nbformat": 4,
 "nbformat_minor": 4
}
