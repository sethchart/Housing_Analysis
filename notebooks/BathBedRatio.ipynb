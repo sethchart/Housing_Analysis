{
 "cells": [
  {
   "cell_type": "markdown",
   "metadata": {},
   "source": [
    "# Bathroom to Bedroom Ratio\n",
    "In this note book we investigate whether the number of bathrooms per bedroom provides any additional predictive power beyond the number of bedrooms."
   ]
  },
  {
   "cell_type": "code",
   "execution_count": null,
   "metadata": {},
   "outputs": [],
   "source": [
    "import RegressionAnalysis\n",
    "import numpy as np\n",
    "from scipy import stats\n",
    "ra = RegressionAnalysis.RegressionAnalysis()"
   ]
  },
  {
   "cell_type": "code",
   "execution_count": null,
   "metadata": {},
   "outputs": [],
   "source": [
    "df = ra.load_data().query('bedrooms < 10 and 10*5 < price < 2*10**6')"
   ]
  },
  {
   "cell_type": "code",
   "execution_count": null,
   "metadata": {},
   "outputs": [],
   "source": [
    "bedBath = df[['bedrooms', 'bathrooms']].copy()\n",
    "bedBath['bath_per_bed'] = df['bathrooms'] / df['bedrooms']\n",
    "bedBath['log_price'] = df['price'].apply(np.log10)\n",
    "bedBath.head()"
   ]
  },
  {
   "cell_type": "code",
   "execution_count": null,
   "metadata": {},
   "outputs": [],
   "source": [
    "ra.make_pair_plot(bedBath)"
   ]
  },
  {
   "cell_type": "code",
   "execution_count": null,
   "metadata": {},
   "outputs": [],
   "source": [
    "X1 = bedBath.drop(['log_price', 'bathrooms'], axis=1)\n",
    "y1 = bedBath['log_price']\n",
    "model1 = ra.fit_model(X1,y1)\n",
    "y_hat1 = ra.predict_target(X1, model1)\n",
    "res1 = ra.compute_residuals(y1, y_hat1)\n",
    "model1.score(X1, y1)"
   ]
  },
  {
   "cell_type": "code",
   "execution_count": null,
   "metadata": {},
   "outputs": [],
   "source": [
    "ra.plot_residuals_against_inputs(X1,res1)"
   ]
  },
  {
   "cell_type": "code",
   "execution_count": null,
   "metadata": {},
   "outputs": [],
   "source": [
    "ra.plot_residuals_against_prediction(y_hat1, res1)"
   ]
  },
  {
   "cell_type": "code",
   "execution_count": null,
   "metadata": {},
   "outputs": [],
   "source": [
    "ra.compute_vif(X1)"
   ]
  },
  {
   "cell_type": "code",
   "execution_count": null,
   "metadata": {},
   "outputs": [],
   "source": [
    "ra.plot_residuals_distribution(res1)"
   ]
  },
  {
   "cell_type": "code",
   "execution_count": null,
   "metadata": {},
   "outputs": [],
   "source": [
    "ra.plot_residuals_normal_qq(res1)"
   ]
  },
  {
   "cell_type": "code",
   "execution_count": null,
   "metadata": {},
   "outputs": [],
   "source": [
    "X2 = bedBath.drop(['log_price','bath_per_bed'], axis=1)\n",
    "y2 = bedBath['log_price']\n",
    "model2 = ra.fit_model(X2,y2)\n",
    "y_hat2 = ra.predict_target(X2, model2)\n",
    "res2 = ra.compute_residuals(y2, y_hat2)\n",
    "model2.score(X2, y2)"
   ]
  },
  {
   "cell_type": "code",
   "execution_count": null,
   "metadata": {},
   "outputs": [],
   "source": [
    "ra.plot_residuals_against_inputs(X2, res2)"
   ]
  },
  {
   "cell_type": "code",
   "execution_count": null,
   "metadata": {},
   "outputs": [],
   "source": [
    "ra.plot_residuals_against_prediction(y_hat2, res2)"
   ]
  },
  {
   "cell_type": "code",
   "execution_count": null,
   "metadata": {},
   "outputs": [],
   "source": [
    "ra.plot_residuals_distribution(res2)"
   ]
  },
  {
   "cell_type": "code",
   "execution_count": null,
   "metadata": {},
   "outputs": [],
   "source": [
    "ra.plot_residuals_normal_qq(res2)"
   ]
  },
  {
   "cell_type": "code",
   "execution_count": null,
   "metadata": {},
   "outputs": [],
   "source": [
    "ra.compute_vif(X2)"
   ]
  },
  {
   "cell_type": "code",
   "execution_count": null,
   "metadata": {},
   "outputs": [],
   "source": [
    "X3 = bedBath.drop(['log_price','bath_per_bed', 'bathrooms'], axis=1)\n",
    "y3 = bedBath['log_price']\n",
    "model3 = ra.fit_model(X3,y3)\n",
    "y_hat3 = ra.predict_target(X3, model3)\n",
    "res3 = ra.compute_residuals(y3, y_hat3)\n",
    "model3.score(X3, y3)"
   ]
  },
  {
   "cell_type": "code",
   "execution_count": null,
   "metadata": {},
   "outputs": [],
   "source": [
    "ra.plot_residuals_against_prediction(y_hat3, res3)"
   ]
  },
  {
   "cell_type": "code",
   "execution_count": null,
   "metadata": {},
   "outputs": [],
   "source": [
    "ra.plot_residuals_distribution(res3)"
   ]
  },
  {
   "cell_type": "code",
   "execution_count": null,
   "metadata": {},
   "outputs": [],
   "source": [
    "ra.plot_residuals_normal_qq(res3)"
   ]
  },
  {
   "cell_type": "markdown",
   "metadata": {},
   "source": [
    "## Conclusion \n",
    "The number of baths per bedroom reduces vif substantially compared to model 2 and outperforms model 3 in terms of r2"
   ]
  }
 ],
 "metadata": {
  "kernelspec": {
   "display_name": "flatiron",
   "language": "python",
   "name": "flatiron"
  },
  "language_info": {
   "codemirror_mode": {
    "name": "ipython",
    "version": 3
   },
   "file_extension": ".py",
   "mimetype": "text/x-python",
   "name": "python",
   "nbconvert_exporter": "python",
   "pygments_lexer": "ipython3",
   "version": "3.6.9"
  }
 },
 "nbformat": 4,
 "nbformat_minor": 4
}
