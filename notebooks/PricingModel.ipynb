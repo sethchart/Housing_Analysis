{
 "cells": [
  {
   "cell_type": "markdown",
   "metadata": {},
   "source": [
    "# House pricing model\n",
    "In this notebook we produce a linear regression model from price."
   ]
  },
  {
   "cell_type": "code",
   "execution_count": null,
   "metadata": {},
   "outputs": [],
   "source": [
    "import numpy as np\n",
    "import pandas as pd\n",
    "from scipy import stats\n",
    "from sklearn.model_selection import train_test_split\n",
    "import statsmodels.api as sm\n",
    "import RegressionAnalysis\n",
    "ra = RegressionAnalysis.RegressionAnalysis()"
   ]
  },
  {
   "cell_type": "code",
   "execution_count": null,
   "metadata": {},
   "outputs": [],
   "source": [
    "dfA = ra.load_data()\n",
    "df = dfA.query('price < 2*10**6')\n",
    "df.shape"
   ]
  },
  {
   "cell_type": "code",
   "execution_count": null,
   "metadata": {},
   "outputs": [],
   "source": [
    "y = df['price'].apply(np.log10)\n",
    "y.columns = ['log_price']\n",
    "y.shape"
   ]
  },
  {
   "cell_type": "code",
   "execution_count": null,
   "metadata": {},
   "outputs": [],
   "source": [
    "bc_living15, bc_living15_lambda = stats.boxcox(df['sqft_living15'])\n",
    "len(bc_living15)"
   ]
  },
  {
   "cell_type": "code",
   "execution_count": null,
   "metadata": {},
   "outputs": [],
   "source": [
    "bed_density = df['bedrooms'] / df['sqft_living']\n",
    "bc_bed_density, bc_bed_density_lambda = stats.boxcox(bed_density)\n",
    "len(bc_bed_density)"
   ]
  },
  {
   "cell_type": "code",
   "execution_count": null,
   "metadata": {},
   "outputs": [],
   "source": [
    "bath_bed_ratio = df['bathrooms'] / df['bedrooms']\n",
    "bc_bath_bed_ratio, bc_bath_bed_ratio_lambda = stats.boxcox(bath_bed_ratio)\n",
    "len(bc_bath_bed_ratio)"
   ]
  },
  {
   "cell_type": "code",
   "execution_count": null,
   "metadata": {},
   "outputs": [],
   "source": [
    "zip_medians = df[['zipcode', 'price']].groupby(by='zipcode').agg('median')\n",
    "q1, q2 = zip_medians['price'].quantile(q=[1/3, 2/3])\n",
    "def get_zip_category(price):\n",
    "    if price < q1:\n",
    "        category = 'low'\n",
    "    elif price < q2:\n",
    "        category = 'med'\n",
    "    else:\n",
    "        category = 'high'\n",
    "    return category\n",
    "zip_medians['category'] = zip_medians['price'].apply(get_zip_category)\n",
    "zip_category_map = zip_medians['category'].to_dict()\n",
    "zip_categories = df['zipcode'].apply(lambda x: zip_category_map[x])\n",
    "zip_cat_dummies = pd.get_dummies(zip_categories, drop_first=True, prefix='zipcode')\n",
    "zip_cat_dummies.shape"
   ]
  },
  {
   "cell_type": "code",
   "execution_count": null,
   "metadata": {},
   "outputs": [],
   "source": [
    "lot_ratio = df['sqft_lot'] / df['sqft_living']\n",
    "bc_lot_ratio, bc_lot_ratio_lambda = stats.boxcox(lot_ratio)\n",
    "len(bc_lot_ratio)"
   ]
  },
  {
   "cell_type": "code",
   "execution_count": null,
   "metadata": {},
   "outputs": [],
   "source": [
    "X = zip_cat_dummies\n",
    "X['bc_living15'] = bc_living15\n",
    "#X['bc_bed_density'] = bc_bed_density\n",
    "X['bc_bath_bed_ratio'] = bc_bath_bed_ratio\n",
    "#X['bc_lot_ratio'] = bc_lot_ratio\n",
    "X.shape"
   ]
  },
  {
   "cell_type": "code",
   "execution_count": null,
   "metadata": {},
   "outputs": [],
   "source": [
    "X_train, X_test, y_train, y_test = train_test_split(X, y, test_size=0.2, random_state=42)\n",
    "print(len(X_train), len(X_test), len(y_train), len(y_test))"
   ]
  },
  {
   "cell_type": "code",
   "execution_count": null,
   "metadata": {},
   "outputs": [],
   "source": [
    "ra.make_pair_plot(pd.concat([X_train,y_train], axis=1))"
   ]
  },
  {
   "cell_type": "code",
   "execution_count": null,
   "metadata": {},
   "outputs": [],
   "source": [
    "ra.make_correlation_plot(pd.concat([X_train, y_train], axis=1))"
   ]
  },
  {
   "cell_type": "code",
   "execution_count": null,
   "metadata": {},
   "outputs": [],
   "source": [
    "model = ra.fit_model(X_train, y_train)"
   ]
  },
  {
   "cell_type": "code",
   "execution_count": null,
   "metadata": {},
   "outputs": [],
   "source": [
    "y_hat_train = ra.predict_target(X_train, model)"
   ]
  },
  {
   "cell_type": "code",
   "execution_count": null,
   "metadata": {},
   "outputs": [],
   "source": [
    "residuals_train = ra.compute_residuals(y_train, y_hat_train)"
   ]
  },
  {
   "cell_type": "code",
   "execution_count": null,
   "metadata": {},
   "outputs": [],
   "source": [
    "ra.plot_residuals_against_inputs(X_train, residuals_train)"
   ]
  },
  {
   "cell_type": "code",
   "execution_count": null,
   "metadata": {},
   "outputs": [],
   "source": [
    "ra.plot_residuals_against_prediction(y_hat_train, residuals_train)"
   ]
  },
  {
   "cell_type": "code",
   "execution_count": null,
   "metadata": {},
   "outputs": [],
   "source": [
    "ra.plot_residuals_distribution(residuals_train)"
   ]
  },
  {
   "cell_type": "code",
   "execution_count": null,
   "metadata": {},
   "outputs": [],
   "source": [
    "ra.plot_residuals_normal_qq(residuals_train)"
   ]
  },
  {
   "cell_type": "code",
   "execution_count": null,
   "metadata": {},
   "outputs": [],
   "source": [
    "ra.compute_vif(X_train)"
   ]
  },
  {
   "cell_type": "code",
   "execution_count": null,
   "metadata": {},
   "outputs": [],
   "source": [
    "model.score(X_train, y_train)"
   ]
  },
  {
   "cell_type": "code",
   "execution_count": null,
   "metadata": {},
   "outputs": [],
   "source": [
    "model.score(X_test, y_test)"
   ]
  },
  {
   "cell_type": "code",
   "execution_count": null,
   "metadata": {},
   "outputs": [],
   "source": [
    "price_res_train = ra.compute_residuals(10**y_train, 10**y_hat_train)"
   ]
  },
  {
   "cell_type": "code",
   "execution_count": null,
   "metadata": {},
   "outputs": [],
   "source": [
    "ra.plot_residuals_against_prediction(10**y_hat_train, price_res_train)"
   ]
  },
  {
   "cell_type": "code",
   "execution_count": null,
   "metadata": {},
   "outputs": [],
   "source": [
    "X1_train = sm.add_constant(X_train)\n",
    "model = sm.OLS(y_train, X1_train, hasconst=True).fit()\n",
    "model.summary()"
   ]
  },
  {
   "cell_type": "code",
   "execution_count": null,
   "metadata": {},
   "outputs": [],
   "source": []
  },
  {
   "cell_type": "code",
   "execution_count": null,
   "metadata": {},
   "outputs": [],
   "source": []
  }
 ],
 "metadata": {
  "kernelspec": {
   "display_name": "flatiron",
   "language": "python",
   "name": "flatiron"
  },
  "language_info": {
   "codemirror_mode": {
    "name": "ipython",
    "version": 3
   },
   "file_extension": ".py",
   "mimetype": "text/x-python",
   "name": "python",
   "nbconvert_exporter": "python",
   "pygments_lexer": "ipython3",
   "version": "3.6.9"
  }
 },
 "nbformat": 4,
 "nbformat_minor": 4
}
