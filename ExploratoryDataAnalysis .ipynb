{
 "cells": [
  {
   "cell_type": "markdown",
   "metadata": {},
   "source": [
    "# Exploratory Data Analysis\n",
    "In this notebook we will inspect the cleaned data with the following goals in mind:\n",
    " * Identify multicolinearity issues.\n",
    " * Identify data transformations that will be required before fitting.\n",
    " * Visualize any relevant structure within the data."
   ]
  },
  {
   "cell_type": "markdown",
   "metadata": {},
   "source": [
    "## Importing modules"
   ]
  },
  {
   "cell_type": "code",
   "execution_count": null,
   "metadata": {},
   "outputs": [],
   "source": [
    "import pandas as pd\n",
    "import matplotlib.pyplot as plt\n",
    "%matplotlib inline\n",
    "import seaborn as sns\n",
    "sns.set_style('darkgrid')"
   ]
  },
  {
   "cell_type": "markdown",
   "metadata": {},
   "source": [
    "## Importing cleaned data"
   ]
  },
  {
   "cell_type": "code",
   "execution_count": null,
   "metadata": {},
   "outputs": [],
   "source": [
    "df = pd.read_csv('data/cleaned.csv')"
   ]
  },
  {
   "cell_type": "markdown",
   "metadata": {},
   "source": [
    "## Inspecting the data\n",
    "We note that most variables display heteroskedasticity with respect to price with more luxurious values of input variables exhibiting more dispersed price. We hypothesize that price grows exponentially with respect to perceived luxury. This is supported by [REF]. Therefore, we expect that the log of price to be linearly related to our inputs.\n",
    "\n",
    "Variables indicating square footage seem to have longer right tails and display a lack of normality. Since homes tend to have essentially square floor plans, it seems reasonable to that the square root of square footage metrics might provide a better measure of the size of a house.\n",
    "\n",
    "Lot size seems to behave more like a measure of luxury and as such falls off exponentially in frequency as it grows, therefore we apply a log transformation to lot size variables.\n",
    "\n",
    "Finally, our date variable, describing the date of sale, is precise to the day. However, we do not expect price to vary substantially on this time scale. For this reason, we chose to group sales by month."
   ]
  },
  {
   "cell_type": "markdown",
   "metadata": {},
   "source": [
    "### Inspecting the distributions of variables"
   ]
  },
  {
   "cell_type": "code",
   "execution_count": null,
   "metadata": {},
   "outputs": [],
   "source": [
    "fig, axs = plt.subplots(7,3)\n",
    "fig.set_figwidth(24)\n",
    "fig.set_figheight(42)\n",
    "for ax, col in zip(axs.flat, df.columns):\n",
    "    try:\n",
    "        df.hist(col, ax=ax)\n",
    "    except:\n",
    "        ax.set_title(col)\n",
    "        continue"
   ]
  },
  {
   "cell_type": "markdown",
   "metadata": {},
   "source": [
    "### Inspecting relationships between input variables and price"
   ]
  },
  {
   "cell_type": "code",
   "execution_count": null,
   "metadata": {},
   "outputs": [],
   "source": [
    "fig, axs = plt.subplots(7,3)\n",
    "fig.set_figwidth(24)\n",
    "fig.set_figheight(42)\n",
    "for ax, col in zip(axs.flat, df.columns):\n",
    "    try:\n",
    "        ax.scatter(x=col, y='price', data=df)\n",
    "        ax.set_title(col)\n",
    "    except:\n",
    "        ax.set_title(col)\n",
    "        continue"
   ]
  },
  {
   "cell_type": "markdown",
   "metadata": {},
   "source": [
    "## Testing data transformations\n",
    "Below we note that the log-price is more normally distributed and that most variables now display homoskedasticity. We will model the log of price as our target.\n",
    "\n",
    "Measures of footage are more normally distributed and show high quality linear relationships with log-price.\n",
    "\n",
    "Sales are more or less uniformly distributed across months and date of sale does not appear to be strongly related to price.\n",
    "\n",
    "We note that bedrooms, bathrooms, and grade all appear to have strong linear relationships with log-price."
   ]
  },
  {
   "cell_type": "markdown",
   "metadata": {},
   "source": [
    "### Preliminary data transformations"
   ]
  },
  {
   "cell_type": "code",
   "execution_count": null,
   "metadata": {},
   "outputs": [],
   "source": [
    "import numpy as np\n",
    "Transformed = df.copy()\n",
    "for col in Transformed.columns:\n",
    "    if 'lot' in col:\n",
    "        Transformed[col] = df[col].apply(lambda x: np.log10(x))\n",
    "    elif col.startswith('sqft_'):\n",
    "        Transformed[col] = df[col].apply(lambda x: np.sqrt(x))\n",
    "\n",
    "Transformed['price'] = df['price'].apply(lambda x: np.log10(x))\n",
    "Transformed['date'] = pd.to_datetime(df['date']).dt.month"
   ]
  },
  {
   "cell_type": "markdown",
   "metadata": {},
   "source": [
    "### Inspecting distributions of transformed variables"
   ]
  },
  {
   "cell_type": "code",
   "execution_count": null,
   "metadata": {},
   "outputs": [],
   "source": [
    "fig, axs = plt.subplots(7,3)\n",
    "fig.set_figwidth(24)\n",
    "fig.set_figheight(42)\n",
    "for ax, col in zip(axs.flat, Transformed.columns):\n",
    "    try:\n",
    "        Transformed.hist(col, ax=ax)\n",
    "    except:\n",
    "        ax.set_title(col)\n",
    "        continue"
   ]
  },
  {
   "cell_type": "markdown",
   "metadata": {},
   "source": [
    "### Inspecting relationships between input variables and log-price"
   ]
  },
  {
   "cell_type": "code",
   "execution_count": null,
   "metadata": {},
   "outputs": [],
   "source": [
    "fig, axs = plt.subplots(7,3)\n",
    "fig.set_figwidth(24)\n",
    "fig.set_figheight(42)\n",
    "for ax, col in zip(axs.flat, Transformed.columns):\n",
    "    try:\n",
    "        ax.scatter(x=col, y='price', data=Transformed)\n",
    "        ax.set_title(col)\n",
    "    except:\n",
    "        continue"
   ]
  },
  {
   "cell_type": "markdown",
   "metadata": {},
   "source": [
    "## Checking for pairwise linear relationships between the transformed footage variables.\n",
    "It is clear that `sqft_living`, `sqft_above`, and `sqft_basement` are linearly related. Similarly, we would expect strong relationships between `sqft_living15` with the aforementioned variables since this variable is a average of square footage of 15 neighboring homes. \n",
    "\n",
    "Based on the visualizations below, it looks like it would be best to select one measure of indoor living space and one measure of outdoor living space for a regression model. We will model with `ft_living` and `log_sqft_lot`"
   ]
  },
  {
   "cell_type": "code",
   "execution_count": null,
   "metadata": {},
   "outputs": [],
   "source": [
    "ft_cols = [col for col in Transformed.columns if col.startswith('sqft_')]\n",
    "ft_vars = Transformed[ft_cols]\n",
    "sns.pairplot(ft_vars)"
   ]
  },
  {
   "cell_type": "code",
   "execution_count": null,
   "metadata": {},
   "outputs": [],
   "source": [
    "ft_corr = ft_vars.corr()\n",
    "sns.heatmap(ft_corr, annot=True, cmap='Blues')"
   ]
  },
  {
   "cell_type": "markdown",
   "metadata": {},
   "source": [
    "## Conclusion\n",
    "Based on the forgoing analysis. We will try to model log-price using the following variables:\n",
    " * bed rooms\n",
    " * bath rooms \n",
    " * ft_living\n",
    " * log_sqft_lot\n",
    " * grade\n",
    " * waterfront?\n",
    " * condition?\n",
    "\n",
    "We would like to visualize house location and price on a map.\n",
    "\n",
    "We should inspect date of sale more closely to identify optimal timing for buying and selling.\n",
    "\n",
    "We need to find a way to incorporate location into the model. Possibly, by clustering on latitude longitude and price to create a location based categorical variable."
   ]
  },
  {
   "cell_type": "code",
   "execution_count": null,
   "metadata": {},
   "outputs": [],
   "source": []
  }
 ],
 "metadata": {
  "kernelspec": {
   "display_name": "flatiron",
   "language": "python",
   "name": "flatiron"
  },
  "language_info": {
   "codemirror_mode": {
    "name": "ipython",
    "version": 3
   },
   "file_extension": ".py",
   "mimetype": "text/x-python",
   "name": "python",
   "nbconvert_exporter": "python",
   "pygments_lexer": "ipython3",
   "version": "3.6.9"
  }
 },
 "nbformat": 4,
 "nbformat_minor": 4
}
